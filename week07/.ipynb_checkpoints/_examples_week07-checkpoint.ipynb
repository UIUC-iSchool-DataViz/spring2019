{
 "cells": [
  {
   "cell_type": "code",
   "execution_count": 1,
   "metadata": {},
   "outputs": [],
   "source": [
    "import pandas as pd\n",
    "import bqplot\n",
    "import numpy as np\n",
    "import traitlets\n",
    "import ipywidgets"
   ]
  },
  {
   "cell_type": "code",
   "execution_count": 4,
   "metadata": {},
   "outputs": [],
   "source": [
    "buildings = pd.read_csv(\"/Users/jillnaiman1/Downloads/building_inventory.csv\",\n",
    "                        na_values = {'Year Acquired': 0, 'Year Constructed': 0, 'Square Footage': 0})"
   ]
  },
  {
   "cell_type": "code",
   "execution_count": 5,
   "metadata": {},
   "outputs": [],
   "source": [
    "data = np.random.random((10, 10))"
   ]
  },
  {
   "cell_type": "code",
   "execution_count": 8,
   "metadata": {},
   "outputs": [
    {
     "data": {
      "application/vnd.jupyter.widget-view+json": {
       "model_id": "5229df8657c04963a8893cec74557151",
       "version_major": 2,
       "version_minor": 0
      },
      "text/plain": [
       "RmlndXJlKGZpZ19tYXJnaW49eyd0b3AnOiA2MCwgJ3JpZ2h0JzogNjAsICdib3R0b20nOiA2MCwgJ2xlZnQnOiA2MH0sIGxheW91dD1MYXlvdXQobWluX3dpZHRoPXUnMTI1cHgnKSwgbWFya3PigKY=\n"
      ]
     },
     "metadata": {},
     "output_type": "display_data"
    }
   ],
   "source": [
    "col_sc = bqplot.ColorScale()\n",
    "heat_map = bqplot.GridHeatMap(color = data, scales = {'color': col_sc})\n",
    "\n",
    "fig = bqplot.Figure(marks = [heat_map])\n",
    "\n",
    "#display(fig) # JPN\n",
    "fig"
   ]
  },
  {
   "cell_type": "code",
   "execution_count": 9,
   "metadata": {},
   "outputs": [
    {
     "data": {
      "text/plain": [
       "[]"
      ]
     },
     "execution_count": 9,
     "metadata": {},
     "output_type": "execute_result"
    }
   ],
   "source": [
    "heat_map.selected"
   ]
  },
  {
   "cell_type": "code",
   "execution_count": 11,
   "metadata": {},
   "outputs": [
    {
     "data": {
      "application/vnd.jupyter.widget-view+json": {
       "model_id": "cbd2e1a590b24abbb5a8d0addb38a8b4",
       "version_major": 2,
       "version_minor": 0
      },
      "text/plain": [
       "RmlndXJlKGF4ZXM9W0NvbG9yQXhpcyhvcmllbnRhdGlvbj0ndmVydGljYWwnLCBzY2FsZT1Db2xvclNjYWxlKHNjaGVtZT11J1JlZHMnKSwgc2lkZT0ncmlnaHQnKV0sIGZpZ19tYXJnaW49eyfigKY=\n"
      ]
     },
     "metadata": {},
     "output_type": "display_data"
    }
   ],
   "source": [
    "col_sc = bqplot.ColorScale(scheme = \"Reds\")\n",
    "c_ax = bqplot.ColorAxis(scale = col_sc, orientation = 'vertical', side = 'right')\n",
    "\n",
    "heat_map = bqplot.GridHeatMap(color = data, scales = {'color': col_sc},\n",
    "                              interactions = {'click': 'select'},\n",
    "                              selected_style = {'opacity': 1.0},\n",
    "                              unselected_style = {'opacity': 0.3})\n",
    "\n",
    "fig = bqplot.Figure(marks = [heat_map], axes = [c_ax])\n",
    "\n",
    "#display(fig)\n",
    "fig"
   ]
  },
  {
   "cell_type": "code",
   "execution_count": 14,
   "metadata": {},
   "outputs": [
    {
     "data": {
      "application/vnd.jupyter.widget-view+json": {
       "model_id": "a1dc2fb4590f4b9a8464392d8208d7d0",
       "version_major": 2,
       "version_minor": 0
      },
      "text/plain": [
       "VkJveChjaGlsZHJlbj0oTGFiZWwodmFsdWU9dScnKSwgRmlndXJlKGF4ZXM9W0NvbG9yQXhpcyhvcmllbnRhdGlvbj0ndmVydGljYWwnLCBzY2FsZT1Db2xvclNjYWxlKHNjaGVtZT11J1JlZHPigKY=\n"
      ]
     },
     "metadata": {},
     "output_type": "display_data"
    }
   ],
   "source": [
    "col_sc = bqplot.ColorScale(scheme = \"Reds\")\n",
    "x_sc = bqplot.OrdinalScale()\n",
    "y_sc = bqplot.OrdinalScale()\n",
    "\n",
    "c_ax = bqplot.ColorAxis(scale = col_sc, orientation = 'vertical', side = 'right')\n",
    "x_ax = bqplot.Axis(scale = x_sc)\n",
    "y_ax = bqplot.Axis(scale = y_sc, orientation = 'vertical')\n",
    "\n",
    "heat_map = bqplot.GridHeatMap(color = data,\n",
    "                              scales = {'color': col_sc,\n",
    "                                        'row': y_sc,\n",
    "                                        'column': x_sc},\n",
    "                              interactions = {'click': 'select'},\n",
    "                              selected_style = {'opacity': 1.0},\n",
    "                              unselected_style = {'opacity': 0.3})\n",
    "\n",
    "fig = bqplot.Figure(marks = [heat_map], axes = [c_ax, y_ax, x_ax])\n",
    "\n",
    "sum_label = ipywidgets.Label()\n",
    "\n",
    "def selection_changed(event):\n",
    "    value = 0.0\n",
    "    for i, j in event['new']:\n",
    "        value += event['owner'].color[i,j]\n",
    "    sum_label.value = str(value)\n",
    "\n",
    "heat_map.observe(selection_changed, 'selected')\n",
    "\n",
    "#display(ipywidgets.VBox([sum_label, fig]))\n",
    "ipywidgets.VBox([sum_label, fig])"
   ]
  },
  {
   "cell_type": "code",
   "execution_count": 13,
   "metadata": {},
   "outputs": [
    {
     "data": {
      "application/vnd.jupyter.widget-view+json": {
       "model_id": "e9235f93413649fcb56299829bb5fb1d",
       "version_major": 2,
       "version_minor": 0
      },
      "text/plain": [
       "VkJveChjaGlsZHJlbj0oTGFiZWwodmFsdWU9dScnKSwgRmlndXJlKGF4ZXM9W0NvbG9yQXhpcyhvcmllbnRhdGlvbj0ndmVydGljYWwnLCBzY2FsZT1Db2xvclNjYWxlKHNjaGVtZT11J0JsdWXigKY=\n"
      ]
     },
     "metadata": {},
     "output_type": "display_data"
    }
   ],
   "source": [
    "col_sc = bqplot.ColorScale(scheme = \"Blues\")\n",
    "x_sc = bqplot.OrdinalScale()\n",
    "y_sc = bqplot.OrdinalScale()\n",
    "\n",
    "c_ax = bqplot.ColorAxis(scale = col_sc, orientation = 'vertical', side = 'right')\n",
    "x_ax = bqplot.Axis(scale = x_sc)\n",
    "y_ax = bqplot.Axis(scale = y_sc, orientation = 'vertical')\n",
    "\n",
    "heat_map = bqplot.GridHeatMap(color = data,\n",
    "                              row = ['a', 'b', 'c', 'd', 'e',\n",
    "                                     'f', 'g', 'h', 'i', 'j'],\n",
    "                              scales = {'color': col_sc,\n",
    "                                        'row': y_sc,\n",
    "                                        'column': x_sc},\n",
    "                              interactions = {'click': 'select'},\n",
    "                              selected_style = {'opacity': 1.0},\n",
    "                              unselected_style = {'opacity': 0.3})\n",
    "\n",
    "fig = bqplot.Figure(marks = [heat_map], axes = [c_ax, y_ax, x_ax])\n",
    "\n",
    "sum_label = ipywidgets.Label()\n",
    "\n",
    "def selection_changed(event):\n",
    "    value = 0.0\n",
    "    for i, j in event['new']:\n",
    "        value += event['owner'].color[i,j]\n",
    "    sum_label.value = str(value)\n",
    "\n",
    "heat_map.observe(selection_changed, 'selected')\n",
    "\n",
    "#display(ipywidgets.VBox([sum_label, fig]))\n",
    "ipywidgets.VBox([sum_label, fig])"
   ]
  },
  {
   "cell_type": "markdown",
   "metadata": {},
   "source": [
    "# Header\n",
    "\n",
    "## Subheader\n",
    "\n",
    " * Bullet 1\n",
    " * Bullet 2"
   ]
  },
  {
   "cell_type": "code",
   "execution_count": null,
   "metadata": {},
   "outputs": [],
   "source": []
  }
 ],
 "metadata": {
  "kernelspec": {
   "display_name": "Python 3",
   "language": "python",
   "name": "python3"
  },
  "language_info": {
   "codemirror_mode": {
    "name": "ipython",
    "version": 2
   },
   "file_extension": ".py",
   "mimetype": "text/x-python",
   "name": "python",
   "nbconvert_exporter": "python",
   "pygments_lexer": "ipython2",
   "version": "2.7.15"
  }
 },
 "nbformat": 4,
 "nbformat_minor": 2
}
