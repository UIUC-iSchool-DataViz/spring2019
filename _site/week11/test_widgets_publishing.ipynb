{
 "cells": [
  {
   "cell_type": "markdown",
   "metadata": {},
   "source": [
    "# Test of widgets"
   ]
  },
  {
   "cell_type": "markdown",
   "metadata": {},
   "source": [
    "* lets see what we got here"
   ]
  },
  {
   "cell_type": "code",
   "execution_count": 1,
   "metadata": {},
   "outputs": [],
   "source": [
    "# try the following:\n",
    "#!pip install ipywidgets==7.4.2\n",
    "#!pip install bqplot\n",
    "\n",
    "# lets import our usual stuff\n",
    "import pandas as pd\n",
    "import bqplot\n",
    "import numpy as np\n",
    "import traitlets\n",
    "import ipywidgets\n",
    "%matplotlib inline"
   ]
  },
  {
   "cell_type": "code",
   "execution_count": 2,
   "metadata": {},
   "outputs": [],
   "source": [
    "data = np.random.random((10, 10))"
   ]
  },
  {
   "cell_type": "code",
   "execution_count": 3,
   "metadata": {},
   "outputs": [
    {
     "data": {
      "application/vnd.jupyter.widget-view+json": {
       "model_id": "e7b8a719968a4f10bd1afb3fef1f0834",
       "version_major": 2,
       "version_minor": 0
      },
      "text/plain": [
       "VkJveChjaGlsZHJlbj0oTGFiZWwodmFsdWU9dScnKSwgRmlndXJlKGF4ZXM9W0NvbG9yQXhpcyhvcmllbnRhdGlvbj0ndmVydGljYWwnLCBzY2FsZT1Db2xvclNjYWxlKHNjaGVtZT11J1JlZHPigKY=\n"
      ]
     },
     "metadata": {},
     "output_type": "display_data"
    }
   ],
   "source": [
    "# now add scales - colors, x & y\n",
    "col_sc = bqplot.ColorScale(scheme = \"Reds\")\n",
    "x_sc = bqplot.OrdinalScale()\n",
    "y_sc = bqplot.OrdinalScale()\n",
    "\n",
    "# create axis - for colors, x & y\n",
    "c_ax = bqplot.ColorAxis(scale = col_sc, \n",
    "                        orientation = 'vertical', \n",
    "                        side = 'right')\n",
    "x_ax = bqplot.Axis(scale = x_sc)\n",
    "y_ax = bqplot.Axis(scale = y_sc, \n",
    "                   orientation = 'vertical')\n",
    "\n",
    "\n",
    "# so now, lets write a little function that links the data value\n",
    "#  to the selected & lets print this in a little ipywidgets label\n",
    "mySelectedLabel = ipywidgets.Label()\n",
    "\n",
    "# (1) \n",
    "# lets write our linking function\n",
    "# there are a few ways to link this,\n",
    "#  here is a simple way first\n",
    "def get_data_value(change):\n",
    "    i,j = heat_map.selected[0]\n",
    "    v = data[i,j] # grab data value\n",
    "    mySelectedLabel.value = str(v) # set our label\n",
    "\n",
    "# (2) this is maybe in-elegant as we are \n",
    "#  explicitly calling our origininal heat map!\n",
    "#  so, lets instead remind ourselves what \"change\" is here\n",
    "def get_data_value(change):\n",
    "    print(change)\n",
    "    i,j = heat_map.selected[0]\n",
    "    v = data[i,j] # grab data value\n",
    "    mySelectedLabel.value = str(v) # set our label\n",
    "# now we see when we click we get back a whole\n",
    "#  dictionary of information - if we recall, \n",
    "#  \"owner\" here is our heat_map which \"owns\" \n",
    "# this change.\n",
    "#  If we want to be able to apply our function to \n",
    "#  this or any other heatmap figure we generate,\n",
    "#  we can re-write the above function as follows:\n",
    "\n",
    "# (3)\n",
    "#def get_data_value(change,mylab):\n",
    "def get_data_value(change):\n",
    "    #print(change['owner'].selected)\n",
    "    i,j = change['owner'].selected[0]\n",
    "    v = data[i,j] # grab data value\n",
    "    mySelectedLabel.value = str(v) # set our label\n",
    "    #mylab.value = str(v) # set our label\n",
    "# so, this now is applied to any map that we choose to input\n",
    "    \n",
    "# regenerate our heatmap to use in our fig canvas\n",
    "heat_map = bqplot.GridHeatMap(color = data,\n",
    "                              scales = {'color': col_sc,\n",
    "                                        'row': y_sc,\n",
    "                                        'column': x_sc},\n",
    "                              interactions = {'click': 'select'},\n",
    "                              anchor_style = {'fill':'blue'}, \n",
    "                              selected_style = {'opacity': 1.0},\n",
    "                              unselected_style = {'opacity': 0.8})\n",
    "    \n",
    "# make sure we check out     \n",
    "heat_map.observe(get_data_value, 'selected')\n",
    "#heat_map.observe(self, mySelectedLabel)\n",
    "fig = bqplot.Figure(marks = [heat_map], \n",
    "                    axes = [c_ax, y_ax, x_ax])\n",
    "\n",
    "ipywidgets.VBox([mySelectedLabel, fig])"
   ]
  },
  {
   "cell_type": "code",
   "execution_count": 4,
   "metadata": {},
   "outputs": [
    {
     "data": {
      "text/plain": [
       "'7.4.2'"
      ]
     },
     "execution_count": 4,
     "metadata": {},
     "output_type": "execute_result"
    }
   ],
   "source": []
  },
  {
   "cell_type": "code",
   "execution_count": null,
   "metadata": {},
   "outputs": [],
   "source": []
  }
 ],
 "metadata": {
  "kernelspec": {
   "display_name": "Python 3",
   "language": "python",
   "name": "python3"
  },
  "language_info": {
   "codemirror_mode": {
    "name": "ipython",
    "version": 2
   },
   "file_extension": ".py",
   "mimetype": "text/x-python",
   "name": "python",
   "nbconvert_exporter": "python",
   "pygments_lexer": "ipython2",
   "version": "2.7.15"
  }
 },
 "nbformat": 4,
 "nbformat_minor": 2
}
