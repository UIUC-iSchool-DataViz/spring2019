{
 "cells": [
  {
   "cell_type": "code",
   "execution_count": 31,
   "metadata": {},
   "outputs": [],
   "source": [
    "import pandas as pd\n",
    "import bqplot\n",
    "import numpy as np\n",
    "import traitlets\n",
    "import ipywidgets"
   ]
  },
  {
   "cell_type": "code",
   "execution_count": 2,
   "metadata": {},
   "outputs": [],
   "source": [
    "buildings = pd.read_csv(\"/home/shared/sp18-is590dv/data/IL_Building_Inventory.csv\",\n",
    "                        na_values = {'Year Acquired': 0, 'Year Constructed': 0, 'Square Footage': 0})"
   ]
  },
  {
   "cell_type": "code",
   "execution_count": null,
   "metadata": {},
   "outputs": [],
   "source": [
    "data = np.random.random((10, 10))"
   ]
  },
  {
   "cell_type": "code",
   "execution_count": 3,
   "metadata": {},
   "outputs": [
    {
     "data": {
      "application/vnd.jupyter.widget-view+json": {
       "model_id": "6038171d411a4dd5a3c9be124b515301",
       "version_major": 2,
       "version_minor": 0
      },
      "text/html": [
       "<p>Failed to display Jupyter Widget of type <code>Figure</code>.</p>\n",
       "<p>\n",
       "  If you're reading this message in the Jupyter Notebook or JupyterLab Notebook, it may mean\n",
       "  that the widgets JavaScript is still loading. If this message persists, it\n",
       "  likely means that the widgets JavaScript library is either not installed or\n",
       "  not enabled. See the <a href=\"https://ipywidgets.readthedocs.io/en/stable/user_install.html\">Jupyter\n",
       "  Widgets Documentation</a> for setup instructions.\n",
       "</p>\n",
       "<p>\n",
       "  If you're reading this message in another frontend (for example, a static\n",
       "  rendering on GitHub or <a href=\"https://nbviewer.jupyter.org/\">NBViewer</a>),\n",
       "  it may mean that your frontend doesn't currently support widgets.\n",
       "</p>\n"
      ],
      "text/plain": [
       "Figure(fig_margin={'top': 60, 'bottom': 60, 'left': 60, 'right': 60}, layout=Layout(min_width='125px'), marks=[GridHeatMap(anchor_style={'fill': 'white', 'stroke': 'blue'}, color=array([[0.0214534 , 0.43759762, 0.01276211, 0.74661412, 0.1723088 ,\n",
       "        0.48769322, 0.49440511, 0.12562223, 0.11254545, 0.12024222],\n",
       "       [0.68997574, 0.87305374, 0.56418321, 0.02086275, 0.91636653,\n",
       "        0.85285301, 0.63860582, 0.10993086, 0.44345487, 0.32369662],\n",
       "       [0.10803057, 0.4752593 , 0.31928025, 0.14141577, 0.40048411,\n",
       "        0.6748352 , 0.14140469, 0.56397979, 0.54669247, 0.15030433],\n",
       "       [0.90746854, 0.78759729, 0.27630991, 0.09838071, 0.33381678,\n",
       "        0.51699767, 0.72613829, 0.53655834, 0.83104003, 0.04461978],\n",
       "       [0.37240121, 0.29496526, 0.57439941, 0.77149188, 0.83707714,\n",
       "        0.50677116, 0.81168096, 0.79405312, 0.21883597, 0.06605237],\n",
       "       [0.9184474 , 0.2303451 , 0.54800005, 0.7627176 , 0.88239591,\n",
       "        0.79031932, 0.34788726, 0.51477905, 0.36623247, 0.25034661],\n",
       "       [0.21269886, 0.97340302, 0.39391877, 0.96498783, 0.44537981,\n",
       "        0.51652449, 0.55961479, 0.83481255, 0.51421141, 0.24193714],\n",
       "       [0.14336088, 0.51752305, 0.46261235, 0.5327126 , 0.63916079,\n",
       "        0.12732642, 0.80344593, 0.10459093, 0.01048279, 0.24349859],\n",
       "       [0.41871727, 0.66444287, 0.9012553 , 0.99998075, 0.28814237,\n",
       "        0.83312215, 0.34306508, 0.35068183, 0.76919657, 0.36576237],\n",
       "       [0.66891709, 0.19190687, 0.84692219, 0.00195471, 0.15996507,\n",
       "        0.87287858, 0.54746198, 0.1923125 , 0.42318529, 0.88119675]]), column=array([0, 1, 2, 3, 4, 5, 6, 7, 8, 9]), interactions={'hover': 'tooltip'}, row=array([0, 1, 2, 3, 4, 5, 6, 7, 8, 9]), scales={'color': ColorScale(), 'row': OrdinalScale(reverse=True), 'column': OrdinalScale()}, scales_metadata={'row': {'orientation': 'vertical', 'dimension': 'y'}, 'column': {'orientation': 'horizontal', 'dimension': 'x'}, 'color': {'dimension': 'color'}}, tooltip_style={'opacity': 0.9})], scale_x=LinearScale(allow_padding=False, max=1.0, min=0.0), scale_y=LinearScale(allow_padding=False, max=1.0, min=0.0))"
      ]
     },
     "metadata": {},
     "output_type": "display_data"
    }
   ],
   "source": [
    "col_sc = bqplot.ColorScale()\n",
    "heat_map = bqplot.GridHeatMap(color = data, scales = {'color': col_sc})\n",
    "\n",
    "fig = bqplot.Figure(marks = [heat_map])\n",
    "\n",
    "display(fig)"
   ]
  },
  {
   "cell_type": "code",
   "execution_count": 4,
   "metadata": {},
   "outputs": [
    {
     "data": {
      "text/plain": [
       "[]"
      ]
     },
     "execution_count": 4,
     "metadata": {},
     "output_type": "execute_result"
    }
   ],
   "source": [
    "heat_map.selected"
   ]
  },
  {
   "cell_type": "code",
   "execution_count": 18,
   "metadata": {},
   "outputs": [
    {
     "data": {
      "application/vnd.jupyter.widget-view+json": {
       "model_id": "a2694274268f4b60acc8420f2901dd0c",
       "version_major": 2,
       "version_minor": 0
      },
      "text/html": [
       "<p>Failed to display Jupyter Widget of type <code>Figure</code>.</p>\n",
       "<p>\n",
       "  If you're reading this message in the Jupyter Notebook or JupyterLab Notebook, it may mean\n",
       "  that the widgets JavaScript is still loading. If this message persists, it\n",
       "  likely means that the widgets JavaScript library is either not installed or\n",
       "  not enabled. See the <a href=\"https://ipywidgets.readthedocs.io/en/stable/user_install.html\">Jupyter\n",
       "  Widgets Documentation</a> for setup instructions.\n",
       "</p>\n",
       "<p>\n",
       "  If you're reading this message in another frontend (for example, a static\n",
       "  rendering on GitHub or <a href=\"https://nbviewer.jupyter.org/\">NBViewer</a>),\n",
       "  it may mean that your frontend doesn't currently support widgets.\n",
       "</p>\n"
      ],
      "text/plain": [
       "Figure(axes=[ColorAxis(orientation='vertical', scale=ColorScale(scheme='Reds'), side='right')], fig_margin={'top': 60, 'bottom': 60, 'left': 60, 'right': 60}, layout=Layout(min_width='125px'), marks=[GridHeatMap(anchor_style={'fill': 'white', 'stroke': 'blue'}, color=array([[0.0214534 , 0.43759762, 0.01276211, 0.74661412, 0.1723088 ,\n",
       "        0.48769322, 0.49440511, 0.12562223, 0.11254545, 0.12024222],\n",
       "       [0.68997574, 0.87305374, 0.56418321, 0.02086275, 0.91636653,\n",
       "        0.85285301, 0.63860582, 0.10993086, 0.44345487, 0.32369662],\n",
       "       [0.10803057, 0.4752593 , 0.31928025, 0.14141577, 0.40048411,\n",
       "        0.6748352 , 0.14140469, 0.56397979, 0.54669247, 0.15030433],\n",
       "       [0.90746854, 0.78759729, 0.27630991, 0.09838071, 0.33381678,\n",
       "        0.51699767, 0.72613829, 0.53655834, 0.83104003, 0.04461978],\n",
       "       [0.37240121, 0.29496526, 0.57439941, 0.77149188, 0.83707714,\n",
       "        0.50677116, 0.81168096, 0.79405312, 0.21883597, 0.06605237],\n",
       "       [0.9184474 , 0.2303451 , 0.54800005, 0.7627176 , 0.88239591,\n",
       "        0.79031932, 0.34788726, 0.51477905, 0.36623247, 0.25034661],\n",
       "       [0.21269886, 0.97340302, 0.39391877, 0.96498783, 0.44537981,\n",
       "        0.51652449, 0.55961479, 0.83481255, 0.51421141, 0.24193714],\n",
       "       [0.14336088, 0.51752305, 0.46261235, 0.5327126 , 0.63916079,\n",
       "        0.12732642, 0.80344593, 0.10459093, 0.01048279, 0.24349859],\n",
       "       [0.41871727, 0.66444287, 0.9012553 , 0.99998075, 0.28814237,\n",
       "        0.83312215, 0.34306508, 0.35068183, 0.76919657, 0.36576237],\n",
       "       [0.66891709, 0.19190687, 0.84692219, 0.00195471, 0.15996507,\n",
       "        0.87287858, 0.54746198, 0.1923125 , 0.42318529, 0.88119675]]), column=array([0, 1, 2, 3, 4, 5, 6, 7, 8, 9]), interactions={'click': 'select'}, row=array([0, 1, 2, 3, 4, 5, 6, 7, 8, 9]), scales={'color': ColorScale(scheme='Reds'), 'row': OrdinalScale(reverse=True), 'column': OrdinalScale()}, scales_metadata={'row': {'orientation': 'vertical', 'dimension': 'y'}, 'column': {'orientation': 'horizontal', 'dimension': 'x'}, 'color': {'dimension': 'color'}}, selected_style={'opacity': 1.0}, tooltip_style={'opacity': 0.9}, unselected_style={'opacity': 0.3})], scale_x=LinearScale(allow_padding=False, max=1.0, min=0.0), scale_y=LinearScale(allow_padding=False, max=1.0, min=0.0))"
      ]
     },
     "metadata": {},
     "output_type": "display_data"
    }
   ],
   "source": [
    "col_sc = bqplot.ColorScale(scheme = \"Reds\")\n",
    "c_ax = bqplot.ColorAxis(scale = col_sc, orientation = 'vertical', side = 'right')\n",
    "\n",
    "heat_map = bqplot.GridHeatMap(color = data, scales = {'color': col_sc},\n",
    "                              interactions = {'click': 'select'},\n",
    "                              selected_style = {'opacity': 1.0},\n",
    "                              unselected_style = {'opacity': 0.3})\n",
    "\n",
    "fig = bqplot.Figure(marks = [heat_map], axes = [c_ax])\n",
    "\n",
    "display(fig)"
   ]
  },
  {
   "cell_type": "code",
   "execution_count": 35,
   "metadata": {},
   "outputs": [
    {
     "data": {
      "application/vnd.jupyter.widget-view+json": {
       "model_id": "cda2a78151fa4d2cbb41356978ac57bb",
       "version_major": 2,
       "version_minor": 0
      },
      "text/html": [
       "<p>Failed to display Jupyter Widget of type <code>VBox</code>.</p>\n",
       "<p>\n",
       "  If you're reading this message in the Jupyter Notebook or JupyterLab Notebook, it may mean\n",
       "  that the widgets JavaScript is still loading. If this message persists, it\n",
       "  likely means that the widgets JavaScript library is either not installed or\n",
       "  not enabled. See the <a href=\"https://ipywidgets.readthedocs.io/en/stable/user_install.html\">Jupyter\n",
       "  Widgets Documentation</a> for setup instructions.\n",
       "</p>\n",
       "<p>\n",
       "  If you're reading this message in another frontend (for example, a static\n",
       "  rendering on GitHub or <a href=\"https://nbviewer.jupyter.org/\">NBViewer</a>),\n",
       "  it may mean that your frontend doesn't currently support widgets.\n",
       "</p>\n"
      ],
      "text/plain": [
       "VBox(children=(Label(value=''), Figure(axes=[ColorAxis(orientation='vertical', scale=ColorScale(scheme='Reds'), side='right'), Axis(orientation='vertical', scale=OrdinalScale()), Axis(scale=OrdinalScale())], fig_margin={'top': 60, 'bottom': 60, 'left': 60, 'right': 60}, layout=Layout(min_width='125px'), marks=[GridHeatMap(anchor_style={'fill': 'white', 'stroke': 'blue'}, color=array([[0.0214534 , 0.43759762, 0.01276211, 0.74661412, 0.1723088 ,\n",
       "        0.48769322, 0.49440511, 0.12562223, 0.11254545, 0.12024222],\n",
       "       [0.68997574, 0.87305374, 0.56418321, 0.02086275, 0.91636653,\n",
       "        0.85285301, 0.63860582, 0.10993086, 0.44345487, 0.32369662],\n",
       "       [0.10803057, 0.4752593 , 0.31928025, 0.14141577, 0.40048411,\n",
       "        0.6748352 , 0.14140469, 0.56397979, 0.54669247, 0.15030433],\n",
       "       [0.90746854, 0.78759729, 0.27630991, 0.09838071, 0.33381678,\n",
       "        0.51699767, 0.72613829, 0.53655834, 0.83104003, 0.04461978],\n",
       "       [0.37240121, 0.29496526, 0.57439941, 0.77149188, 0.83707714,\n",
       "        0.50677116, 0.81168096, 0.79405312, 0.21883597, 0.06605237],\n",
       "       [0.9184474 , 0.2303451 , 0.54800005, 0.7627176 , 0.88239591,\n",
       "        0.79031932, 0.34788726, 0.51477905, 0.36623247, 0.25034661],\n",
       "       [0.21269886, 0.97340302, 0.39391877, 0.96498783, 0.44537981,\n",
       "        0.51652449, 0.55961479, 0.83481255, 0.51421141, 0.24193714],\n",
       "       [0.14336088, 0.51752305, 0.46261235, 0.5327126 , 0.63916079,\n",
       "        0.12732642, 0.80344593, 0.10459093, 0.01048279, 0.24349859],\n",
       "       [0.41871727, 0.66444287, 0.9012553 , 0.99998075, 0.28814237,\n",
       "        0.83312215, 0.34306508, 0.35068183, 0.76919657, 0.36576237],\n",
       "       [0.66891709, 0.19190687, 0.84692219, 0.00195471, 0.15996507,\n",
       "        0.87287858, 0.54746198, 0.1923125 , 0.42318529, 0.88119675]]), column=array([0, 1, 2, 3, 4, 5, 6, 7, 8, 9]), interactions={'click': 'select'}, row=array([0, 1, 2, 3, 4, 5, 6, 7, 8, 9]), scales={'color': ColorScale(scheme='Reds'), 'row': OrdinalScale(), 'column': OrdinalScale()}, scales_metadata={'row': {'orientation': 'vertical', 'dimension': 'y'}, 'column': {'orientation': 'horizontal', 'dimension': 'x'}, 'color': {'dimension': 'color'}}, selected_style={'opacity': 1.0}, tooltip_style={'opacity': 0.9}, unselected_style={'opacity': 0.3})], scale_x=LinearScale(allow_padding=False, max=1.0, min=0.0), scale_y=LinearScale(allow_padding=False, max=1.0, min=0.0))))"
      ]
     },
     "metadata": {},
     "output_type": "display_data"
    }
   ],
   "source": [
    "col_sc = bqplot.ColorScale(scheme = \"Reds\")\n",
    "x_sc = bqplot.OrdinalScale()\n",
    "y_sc = bqplot.OrdinalScale()\n",
    "\n",
    "c_ax = bqplot.ColorAxis(scale = col_sc, orientation = 'vertical', side = 'right')\n",
    "x_ax = bqplot.Axis(scale = x_sc)\n",
    "y_ax = bqplot.Axis(scale = y_sc, orientation = 'vertical')\n",
    "\n",
    "heat_map = bqplot.GridHeatMap(color = data,\n",
    "                              scales = {'color': col_sc,\n",
    "                                        'row': y_sc,\n",
    "                                        'column': x_sc},\n",
    "                              interactions = {'click': 'select'},\n",
    "                              selected_style = {'opacity': 1.0},\n",
    "                              unselected_style = {'opacity': 0.3})\n",
    "\n",
    "fig = bqplot.Figure(marks = [heat_map], axes = [c_ax, y_ax, x_ax])\n",
    "\n",
    "sum_label = ipywidgets.Label()\n",
    "\n",
    "def selection_changed(event):\n",
    "    value = 0.0\n",
    "    for i, j in event['new']:\n",
    "        value += event['owner'].color[i,j]\n",
    "    sum_label.value = str(value)\n",
    "\n",
    "heat_map.observe(selection_changed, 'selected')\n",
    "\n",
    "display(ipywidgets.VBox([sum_label, fig]))"
   ]
  },
  {
   "cell_type": "code",
   "execution_count": 40,
   "metadata": {},
   "outputs": [
    {
     "data": {
      "application/vnd.jupyter.widget-view+json": {
       "model_id": "57996cfd6ca44a82b160edd8524a5251",
       "version_major": 2,
       "version_minor": 0
      },
      "text/html": [
       "<p>Failed to display Jupyter Widget of type <code>VBox</code>.</p>\n",
       "<p>\n",
       "  If you're reading this message in the Jupyter Notebook or JupyterLab Notebook, it may mean\n",
       "  that the widgets JavaScript is still loading. If this message persists, it\n",
       "  likely means that the widgets JavaScript library is either not installed or\n",
       "  not enabled. See the <a href=\"https://ipywidgets.readthedocs.io/en/stable/user_install.html\">Jupyter\n",
       "  Widgets Documentation</a> for setup instructions.\n",
       "</p>\n",
       "<p>\n",
       "  If you're reading this message in another frontend (for example, a static\n",
       "  rendering on GitHub or <a href=\"https://nbviewer.jupyter.org/\">NBViewer</a>),\n",
       "  it may mean that your frontend doesn't currently support widgets.\n",
       "</p>\n"
      ],
      "text/plain": [
       "VBox(children=(Label(value=''), Figure(axes=[ColorAxis(orientation='vertical', scale=ColorScale(scheme='Blues'), side='right'), Axis(orientation='vertical', scale=OrdinalScale()), Axis(scale=OrdinalScale())], fig_margin={'top': 60, 'bottom': 60, 'left': 60, 'right': 60}, layout=Layout(min_width='125px'), marks=[GridHeatMap(anchor_style={'fill': 'white', 'stroke': 'blue'}, color=array([[0.0214534 , 0.43759762, 0.01276211, 0.74661412, 0.1723088 ,\n",
       "        0.48769322, 0.49440511, 0.12562223, 0.11254545, 0.12024222],\n",
       "       [0.68997574, 0.87305374, 0.56418321, 0.02086275, 0.91636653,\n",
       "        0.85285301, 0.63860582, 0.10993086, 0.44345487, 0.32369662],\n",
       "       [0.10803057, 0.4752593 , 0.31928025, 0.14141577, 0.40048411,\n",
       "        0.6748352 , 0.14140469, 0.56397979, 0.54669247, 0.15030433],\n",
       "       [0.90746854, 0.78759729, 0.27630991, 0.09838071, 0.33381678,\n",
       "        0.51699767, 0.72613829, 0.53655834, 0.83104003, 0.04461978],\n",
       "       [0.37240121, 0.29496526, 0.57439941, 0.77149188, 0.83707714,\n",
       "        0.50677116, 0.81168096, 0.79405312, 0.21883597, 0.06605237],\n",
       "       [0.9184474 , 0.2303451 , 0.54800005, 0.7627176 , 0.88239591,\n",
       "        0.79031932, 0.34788726, 0.51477905, 0.36623247, 0.25034661],\n",
       "       [0.21269886, 0.97340302, 0.39391877, 0.96498783, 0.44537981,\n",
       "        0.51652449, 0.55961479, 0.83481255, 0.51421141, 0.24193714],\n",
       "       [0.14336088, 0.51752305, 0.46261235, 0.5327126 , 0.63916079,\n",
       "        0.12732642, 0.80344593, 0.10459093, 0.01048279, 0.24349859],\n",
       "       [0.41871727, 0.66444287, 0.9012553 , 0.99998075, 0.28814237,\n",
       "        0.83312215, 0.34306508, 0.35068183, 0.76919657, 0.36576237],\n",
       "       [0.66891709, 0.19190687, 0.84692219, 0.00195471, 0.15996507,\n",
       "        0.87287858, 0.54746198, 0.1923125 , 0.42318529, 0.88119675]]), column=array([0, 1, 2, 3, 4, 5, 6, 7, 8, 9]), interactions={'click': 'select'}, row=array(['a', 'b', 'c', 'd', 'e', 'f', 'g', 'h', 'i', 'j'], dtype='<U1'), scales={'color': ColorScale(scheme='Blues'), 'row': OrdinalScale(), 'column': OrdinalScale()}, scales_metadata={'row': {'orientation': 'vertical', 'dimension': 'y'}, 'column': {'orientation': 'horizontal', 'dimension': 'x'}, 'color': {'dimension': 'color'}}, selected_style={'opacity': 1.0}, tooltip_style={'opacity': 0.9}, unselected_style={'opacity': 0.3})], scale_x=LinearScale(allow_padding=False, max=1.0, min=0.0), scale_y=LinearScale(allow_padding=False, max=1.0, min=0.0))))"
      ]
     },
     "metadata": {},
     "output_type": "display_data"
    }
   ],
   "source": [
    "col_sc = bqplot.ColorScale(scheme = \"Blues\")\n",
    "x_sc = bqplot.OrdinalScale()\n",
    "y_sc = bqplot.OrdinalScale()\n",
    "\n",
    "c_ax = bqplot.ColorAxis(scale = col_sc, orientation = 'vertical', side = 'right')\n",
    "x_ax = bqplot.Axis(scale = x_sc)\n",
    "y_ax = bqplot.Axis(scale = y_sc, orientation = 'vertical')\n",
    "\n",
    "heat_map = bqplot.GridHeatMap(color = data,\n",
    "                              row = ['a', 'b', 'c', 'd', 'e',\n",
    "                                     'f', 'g', 'h', 'i', 'j'],\n",
    "                              scales = {'color': col_sc,\n",
    "                                        'row': y_sc,\n",
    "                                        'column': x_sc},\n",
    "                              interactions = {'click': 'select'},\n",
    "                              selected_style = {'opacity': 1.0},\n",
    "                              unselected_style = {'opacity': 0.3})\n",
    "\n",
    "fig = bqplot.Figure(marks = [heat_map], axes = [c_ax, y_ax, x_ax])\n",
    "\n",
    "sum_label = ipywidgets.Label()\n",
    "\n",
    "def selection_changed(event):\n",
    "    value = 0.0\n",
    "    for i, j in event['new']:\n",
    "        value += event['owner'].color[i,j]\n",
    "    sum_label.value = str(value)\n",
    "\n",
    "heat_map.observe(selection_changed, 'selected')\n",
    "\n",
    "display(ipywidgets.VBox([sum_label, fig]))"
   ]
  },
  {
   "cell_type": "markdown",
   "metadata": {},
   "source": [
    "# Header\n",
    "\n",
    "## Subheader\n",
    "\n",
    " * Bullet 1\n",
    " * Bullet 2"
   ]
  },
  {
   "cell_type": "code",
   "execution_count": null,
   "metadata": {},
   "outputs": [],
   "source": []
  }
 ],
 "metadata": {
  "kernelspec": {
   "display_name": "Environment (conda_is590dv-default)",
   "language": "python",
   "name": "conda_is590dv-default"
  },
  "language_info": {
   "codemirror_mode": {
    "name": "ipython",
    "version": 3
   },
   "file_extension": ".py",
   "mimetype": "text/x-python",
   "name": "python",
   "nbconvert_exporter": "python",
   "pygments_lexer": "ipython3",
   "version": "3.6.4"
  }
 },
 "nbformat": 4,
 "nbformat_minor": 2
}
