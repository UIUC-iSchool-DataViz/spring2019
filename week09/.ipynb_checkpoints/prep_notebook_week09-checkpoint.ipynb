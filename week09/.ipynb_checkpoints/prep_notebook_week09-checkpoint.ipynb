{
 "cells": [
  {
   "cell_type": "code",
   "execution_count": 2,
   "metadata": {},
   "outputs": [
    {
     "data": {
      "application/vnd.jupyter.widget-view+json": {
       "model_id": "55768d8fd7c643a2b137c0359cb11b6c",
       "version_major": 2,
       "version_minor": 0
      },
      "text/plain": [
       "TWFwKGJhc2VtYXA9eyd1cmwnOiAnaHR0cDovL3tzfS50aWxlLm9wZW5zdHJlZXRtYXAuc2UvaHlkZGEvZnVsbC97en0ve3h9L3t5fS5wbmcnLCAnYXR0cmlidXRpb24nOiAnVGlsZXMgY291cnTigKY=\n"
      ]
     },
     "metadata": {},
     "output_type": "display_data"
    }
   ],
   "source": []
  },
  {
   "cell_type": "markdown",
   "metadata": {},
   "source": [
    "# Activity #1: MarketMap\n",
    "* another way to visualize mappable data"
   ]
  },
  {
   "cell_type": "markdown",
   "metadata": {},
   "source": [
    "## 1.a : explore the dataset"
   ]
  },
  {
   "cell_type": "code",
   "execution_count": null,
   "metadata": {},
   "outputs": [],
   "source": [
    "# our usual stuff\n",
    "%matplotlib inline\n",
    "import pandas as pd\n",
    "import numpy as np"
   ]
  },
  {
   "cell_type": "code",
   "execution_count": null,
   "metadata": {},
   "outputs": [],
   "source": [
    "#!pip install xlrd # JPN, might have to run this\n",
    "\n",
    "# note: this is quering from the web!  How neat is that??\n",
    "df = pd.read_excel('https://query.data.world/s/ivl45pdpubos6jpsii3djsjwm2pcjv', skiprows=5)\n",
    "# the above might take a while to load all the data"
   ]
  },
  {
   "cell_type": "code",
   "execution_count": null,
   "metadata": {},
   "outputs": [],
   "source": [
    "# what is in this dataframe? lets take a look at the top\n",
    "df.head()\n",
    "# this dataset is called: \"Surgery Charges Across the U.S.\"\n",
    "#  and its just showing us how much different procedures \n",
    "#  cost from different hospitals"
   ]
  },
  {
   "cell_type": "code",
   "execution_count": null,
   "metadata": {},
   "outputs": [],
   "source": [
    "# what kinds of data are we working with?\n",
    "df.dtypes"
   ]
  },
  {
   "cell_type": "code",
   "execution_count": null,
   "metadata": {},
   "outputs": [],
   "source": [
    "# lets look at some summary data\n",
    "# recall: this is like R's \"summary\" function\n",
    "df.describe()\n",
    "# so, things like the mean zipcode aren't\n",
    "#  meaningful, same thing with provider ID\n",
    "#  But certainly looking at the average\n",
    "#  total payments, discharges, might \n",
    "#  be useful"
   ]
  },
  {
   "cell_type": "code",
   "execution_count": null,
   "metadata": {},
   "outputs": [],
   "source": [
    "# lets look at how many seperate types of surgery are \n",
    "#  represented in this dataset:\n",
    "df[\"DRG Definition\"].unique().size"
   ]
  },
  {
   "cell_type": "code",
   "execution_count": null,
   "metadata": {},
   "outputs": [],
   "source": [
    "# what about how many provider (hospital) names?\n",
    "df[\"Provider Name\"].unique().size"
   ]
  },
  {
   "cell_type": "code",
   "execution_count": null,
   "metadata": {},
   "outputs": [],
   "source": [
    "# how many states are represented\n",
    "df[\"Provider State\"].unique().size"
   ]
  },
  {
   "cell_type": "code",
   "execution_count": null,
   "metadata": {},
   "outputs": [],
   "source": [
    "# what are the state codes?\n",
    "df[\"Provider State\"].unique()"
   ]
  },
  {
   "cell_type": "code",
   "execution_count": null,
   "metadata": {},
   "outputs": [],
   "source": [
    "# lets figure out  what the most common surgeries are via how \n",
    "#  many many folks are discharged after each type of surgery\n",
    "# (1)\n",
    "most_common = df.groupby(\"DRG Definition\")[\"Total Discharges\"].sum()\n",
    "most_common\n",
    "\n",
    "# (2) but lets sort by the largest on top\n",
    "most_common = df.groupby(\"DRG Definition\")[\"Total Discharges\"].sum().sort_values(ascending=False)\n",
    "most_common\n",
    "\n",
    "# (3) lets look at only the top 5, for fun\n",
    "most_common[:5]\n",
    "\n",
    "# (4) or we can only look at the names of the top 5:\n",
    "most_common[:5].index.values"
   ]
  },
  {
   "cell_type": "markdown",
   "metadata": {},
   "source": [
    "## 1.b: formatting data for MarketMap\n",
    "* here we are going to practice doing some fancy things to clean this data\n",
    "* this will be good practice for when you run into other datasets \"in the wild\""
   ]
  },
  {
   "cell_type": "code",
   "execution_count": null,
   "metadata": {},
   "outputs": [],
   "source": [
    "# (1) lets create a little table of total discharges for\n",
    "#  each type of surgery & state\n",
    "total_discharges = df.groupby([\"DRG Definition\", \"Provider State\"])[\"Total Discharges\"].sum()\n",
    "total_discharges\n",
    "\n",
    "# (2) the above is not intuative, lets prettify it\n",
    "total_discharges = df.groupby([\"DRG Definition\", \"Provider State\"])[\"Total Discharges\"].sum().unstack()\n",
    "total_discharges"
   ]
  },
  {
   "cell_type": "markdown",
   "metadata": {},
   "source": [
    "### Aside: lets quick check out what are the most frequent surgeries"
   ]
  },
  {
   "cell_type": "code",
   "execution_count": null,
   "metadata": {},
   "outputs": [],
   "source": [
    "# for our map, we are going to want to \n",
    "# normalize the discharges or each surgery \n",
    "# for each \n",
    "# state by the total discharges across all \n",
    "# states for a particular type of surger\n",
    "#  lets add this to our total_discharges DF\n",
    "total_discharges[\"Total\"] = total_discharges.sum(axis = 1)\n",
    "total_discharges[\"Total\"].head() # just look at the first few"
   ]
  },
  {
   "cell_type": "code",
   "execution_count": null,
   "metadata": {},
   "outputs": [],
   "source": [
    "# finally, lets check out the most often\n",
    "#  performed surgery across all states\n",
    "\n",
    "# we can do this by sorting our DF by this total we just\n",
    "# calculated:\n",
    "total_discharges.sort_values(by = \"Total\", \n",
    "                             ascending=False, \n",
    "                             inplace = True)\n",
    "\n",
    "# now lets just look at the first few of our \n",
    "#  sorted array\n",
    "total_discharges.head()\n",
    "\n",
    "# so, from this we see that joint replacement\n",
    "#  or reattachment of a lower extremeity is \n",
    "#  the most likely surgery (in number of discharges)\n",
    "# followed by surgeries for sepsis and then heart failure"
   ]
  },
  {
   "cell_type": "code",
   "execution_count": null,
   "metadata": {},
   "outputs": [],
   "source": [
    "# neat.  We won't need these for plotting, so we can remove our\n",
    "# total column we just calculated\n",
    "del total_discharges[\"Total\"]\n",
    "total_discharges.head()\n",
    "# now we see that we are back to just states & surgeries\n",
    "#  *but* our sorting is still by the total that we \n",
    "# previously calculated.\n",
    "# spiffy!"
   ]
  },
  {
   "cell_type": "markdown",
   "metadata": {},
   "source": [
    "## 1.c: plot data with bqplot"
   ]
  },
  {
   "cell_type": "code",
   "execution_count": null,
   "metadata": {},
   "outputs": [],
   "source": [
    "import bqplot\n",
    "# by default bqplot does not import \n",
    "#  all packages, we have to \n",
    "#  explicitely import market_map\n",
    "import bqplot.market_map # for access to market_map"
   ]
  },
  {
   "cell_type": "code",
   "execution_count": null,
   "metadata": {},
   "outputs": [],
   "source": [
    "# lets do our usual thing, but with a market map\n",
    "#  instead of a heat map\n",
    "\n",
    "# scales:\n",
    "x_sc, y_sc = bqplot.OrdinalScale(), bqplot.OrdinalScale() # note, just a different way to call things\n",
    "c_sc = bqplot.ColorScale(scheme=\"Blues\")\n",
    "\n",
    "# just a color axes for now:\n",
    "c_ax = bqplot.ColorAxis(scale = c_sc, orientation = 'vertical')\n",
    "\n",
    "# lets make the market map:\n",
    "\n",
    "# (1) what should we plot for our color? lets take a look:\n",
    "total_discharges.iloc[0].values, total_discharges.columns.values\n",
    "# this is the total discharges for the most \n",
    "# popular surgical procedure\n",
    "# the columns will be states\n",
    "\n",
    "# (2) lets put this into a map\n",
    "mmap = bqplot.market_map.MarketMap(color = total_discharges.iloc[0].values, \n",
    "                                  names = total_discharges.columns.values,\n",
    "                                  scales={'color':c_sc}, \n",
    "                                   axes=[c_ax])\n",
    "\n",
    "# (3) ok, but just clicking on things doesn't tell us too much\n",
    "# lets add a little label to print out the total of the selected\n",
    "import ipywidgets\n",
    "label = ipywidgets.Label()\n",
    "# link to market map\n",
    "def get_data(change):\n",
    "    # (3.1)\n",
    "    #print(change['owner'].selected)\n",
    "    # (3.2) loop\n",
    "    v = 0.0 # to store total value\n",
    "    for s in change['owner'].selected:\n",
    "        v += total_discharges.iloc[0][total_discharges.iloc[0].index == s].values\n",
    "    if v > 0: # in case nothing is selected\n",
    "        # what are we printing?\n",
    "        l = 'Total discharges of ' + \\\n",
    "        total_discharges.iloc[0].name + \\\n",
    "        ' = ' + str(v[0]) # note: v is by default an array\n",
    "        label.value = l \n",
    "    \n",
    "mmap.observe(get_data,'selected')\n",
    "    \n",
    "#mmap\n",
    "\n",
    "# (3)\n",
    "ipywidgets.VBox([label,mmap])"
   ]
  },
  {
   "cell_type": "markdown",
   "metadata": {},
   "source": [
    "## Discussion:\n",
    "* think back to the map we had last week: we can certainly plot this information with a more geo-realistic map\n",
    "* what are the pros & cons of each style of map?  What do each highlight?  How are each biased?"
   ]
  },
  {
   "cell_type": "markdown",
   "metadata": {},
   "source": [
    "## IF we have time: Re-do with other mapping system:"
   ]
  },
  {
   "cell_type": "code",
   "execution_count": null,
   "metadata": {},
   "outputs": [],
   "source": [
    "from us_state_abbrev import us_state_abbrev\n",
    "\n",
    "sc_geo = bqplot.AlbersUSA()\n",
    "state_data = bqplot.topo_load('map_data/USStatesMap.json')\n",
    "\n",
    "#(1)\n",
    "#states_map = bqplot.Map(map_data=state_data, scales={'projection':sc_geo})\n",
    "\n",
    "#(2)\n",
    "# library from last time\n",
    "from states_utils import get_ids_and_names\n",
    "ids, state_names = get_ids_and_names(states_map)\n",
    "\n",
    "# color maps\n",
    "import matplotlib.cm as cm\n",
    "cmap = cm.Blues\n",
    "\n",
    "# most popular surgery\n",
    "popSurg = total_discharges.iloc[0]\n",
    "\n",
    "# here, we will go through the process of getting colors to plot\n",
    "#  each state with its similar color to the marketmap above:\n",
    "\n",
    "#!pip install webcolors\n",
    "from webcolors import rgb_to_hex\n",
    "d = {} # empty dict to store colors\n",
    "for s in states_map.map_data['objects']['subunits']['geometries']:\n",
    "    if s['properties'] is not None:\n",
    "        #print(s['properties']['name'], s['id'])\n",
    "        # match states to abbreviations\n",
    "        state_abbrev = us_state_abbrev[s['properties']['name']]\n",
    "        #print(state_abbrev)\n",
    "        v = popSurg[popSurg.index == state_abbrev].values[0]\n",
    "        # renorm v to colors and then number of states\n",
    "        v = (v - popSurg.values.min())/(popSurg.values.max()-popSurg.values.min())\n",
    "        #print(v, int(cmap(v)[0]), int(cmap(v)[1]), int(cmap(v)[2]))\n",
    "        # convert to from 0-1 to 0-255 rgbs\n",
    "        c = [int(cmap(v)[i]*255) for i in range(3)]\n",
    "        #d[s['id']] = rgb_to_hex([int(cmap(v)[0]*255), int(cmap(v)[1]*255), int(cmap(v)[2]*255)])\n",
    "        d[s['id']] = rgb_to_hex(c)\n",
    "    \n",
    "    \n",
    "def_tt = bqplot.Tooltip(fields=['name'])\n",
    "    \n",
    "states_map = bqplot.Map(map_data=state_data, scales={'projection':sc_geo}, colors = d, tooltip=def_tt)\n",
    "# add interactions\n",
    "states_map.interactions = {'click': 'select', 'hover': 'tooltip'}\n",
    "\n",
    "# (3)\n",
    "label = ipywidgets.Label()\n",
    "# link to heat map\n",
    "def get_data(change):\n",
    "    v = 0.0 # to store total value\n",
    "    if change['owner'].selected is not None:\n",
    "        for s in change['owner'].selected:\n",
    "            #print(s)\n",
    "            sn = state_names[s == ids][0]\n",
    "            state_abbrev = us_state_abbrev[sn]\n",
    "            v += popSurg[popSurg.index == state_abbrev].values[0]\n",
    "        if v > 0: # in case nothing is selected\n",
    "            # what are we printing?\n",
    "            l = 'Total discharges of ' + \\\n",
    "            popSurg.name + \\\n",
    "            ' = ' + str(v) # note: v is by default an array\n",
    "            label.value = l \n",
    "    \n",
    "states_map.observe(get_data,'selected')\n",
    "\n",
    "fig=bqplot.Figure(marks=[states_map], \n",
    "                  title='US States Map Example',\n",
    "                  fig_margin={'top': 0, 'bottom': 0, 'left': 0, 'right': 0}) # try w/o first and see\n",
    "#fig\n",
    "# (3)\n",
    "ipywidgets.VBox([label,fig])"
   ]
  },
  {
   "cell_type": "markdown",
   "metadata": {},
   "source": [
    "# Activity #2: Real quick ipyleaflets\n",
    "* since cartopy wasn't working for folks, we'll quickly look at another option: ipyleaflets"
   ]
  },
  {
   "cell_type": "code",
   "execution_count": 4,
   "metadata": {},
   "outputs": [
    {
     "data": {
      "application/vnd.jupyter.widget-view+json": {
       "model_id": "422d495a5d30433cb9fbf46fa69798db",
       "version_major": 2,
       "version_minor": 0
      },
      "text/plain": [
       "TWFwKGJhc2VtYXA9eyd1cmwnOiAnaHR0cDovL3tzfS50aWxlLm9wZW5zdHJlZXRtYXAuc2UvaHlkZGEvZnVsbC97en0ve3h9L3t5fS5wbmcnLCAnYXR0cmlidXRpb24nOiAnVGlsZXMgY291cnTigKY=\n"
      ]
     },
     "metadata": {},
     "output_type": "display_data"
    }
   ],
   "source": [
    "#!pip install ipyleaflet\n",
    "from ipyleaflet import *\n",
    "# note: you might have to close and reopen you notebook\n",
    "# to see the map\n",
    "\n",
    "m = Map(center=(52, 10), zoom=8, basemap=basemaps.Hydda.Full)\n",
    "\n",
    "#(2) street maps\n",
    "strata_all = basemap_to_tiles(basemaps.Strava.All)\n",
    "m.add_layer(strata_all)\n",
    "m"
   ]
  },
  {
   "cell_type": "code",
   "execution_count": null,
   "metadata": {},
   "outputs": [],
   "source": []
  },
  {
   "cell_type": "markdown",
   "metadata": {},
   "source": [
    "# Activity #3: Networked data - Simple example\n"
   ]
  },
  {
   "cell_type": "code",
   "execution_count": null,
   "metadata": {},
   "outputs": [],
   "source": [
    "# lets start with some very basic node data\n",
    "# **copy paste into chat **\n",
    "node_data = [\n",
    "    {\"label\": \"Luke Skywalker\", \"media\": \"Star Wars\", \"shape\": \"rect\"},\n",
    "    {\"label\": \"Jean-Luc Picard\", \"media\": \"Star Trek\", \"shape\": \"rect\"},\n",
    "    {\"label\": \"Doctor Who\", \"media\": \"Doctor Who\", \"shape\": \"rect\"},\n",
    "    {\"label\": \"Pikachu\", \"media\": \"Detective Pikachu\", \"shape\": \"circle\"},\n",
    "]\n",
    "\n",
    "# we'll use bqplot.Graph to plot these\n",
    "graph = bqplot.Graph(node_data=node_data,\n",
    "                    colors = [\"red\", \"red\", \"red\", \"red\"])\n",
    "\n",
    "fig = bqplot.Figure(marks = [graph])\n",
    "fig\n",
    "\n",
    "# you note I can pick them up and move them around, but they aren't connected in any way\n",
    "# lets make some connections"
   ]
  },
  {
   "cell_type": "code",
   "execution_count": null,
   "metadata": {},
   "outputs": [],
   "source": [
    "node_data = [\n",
    "    {\"label\": \"Luke Skywalker\", \"media\": \"Star Wars\", \"shape\": \"rect\"},\n",
    "    {\"label\": \"Jean-Luc Picard\", \"media\": \"Star Trek\", \"shape\": \"rect\"},\n",
    "    {\"label\": \"Doctor Who\", \"media\": \"Doctor Who\", \"shape\": \"rect\"},\n",
    "    {\"label\": \"Pikachu\", \"media\": \"Detective Pikachu\", \"shape\": \"circle\"},\n",
    "]\n",
    "\n",
    "# lets link the 0th entry (luke skywalker) to both\n",
    "#  jean-luc picard (1th entry) and pikachu (3rd entry)\n",
    "link_data = [{'source': 0, 'target': 1}, {'source': 0, 'target':  3}]\n",
    "\n",
    "graph = bqplot.Graph(node_data=node_data, link_data=link_data, \n",
    "                    colors = [\"red\", \"red\", \"red\", \"red\"])\n",
    "\n",
    "#(2) we can also play with the springiness of our links:\n",
    "graph.charge = -300 # setting it to positive makes them want to overlap and is, ingeneral, a lot of fun\n",
    "# -300 is default\n",
    "\n",
    "# (3) we can also change the link type:\n",
    "graph.link_type = 'line' # arc = default, line, slant_line\n",
    "\n",
    "# (4) highlight link direction, or not\n",
    "graph.directed = False\n",
    "\n",
    "fig = bqplot.Figure(marks = [graph])\n",
    "fig"
   ]
  },
  {
   "cell_type": "code",
   "execution_count": null,
   "metadata": {},
   "outputs": [],
   "source": [
    "# we can do all the same things we've done with\n",
    "# our previous map plots:\n",
    "# for example, we can add a tooltip:\n",
    "#(1)\n",
    "tooltip = bqplot.Tooltip(fields=[\"media\"])\n",
    "graph = bqplot.Graph(node_data=node_data, link_data=link_data, \n",
    "                    colors = [\"red\", \"red\", \"red\", \"red\"],\n",
    "                    tooltip=tooltip)\n",
    "\n",
    "# we can also do interactive things with labels\n",
    "label = ipywidgets.Label()\n",
    "\n",
    "# note here that the calling sequence \n",
    "# is a little different - instead \n",
    "# of \"change\" we have \"obj\" and \n",
    "# \"element\"\n",
    "def printstuff(obj, element):\n",
    "    # (1.1)\n",
    "    #print(obj)\n",
    "    #print(element)\n",
    "    label.value = 'Media = ' + element['data']['media']\n",
    "    \n",
    "graph.on_element_click(printstuff)\n",
    "\n",
    "\n",
    "fig = bqplot.Figure(marks = [graph])\n",
    "ipywidgets.VBox([label,fig])"
   ]
  },
  {
   "cell_type": "markdown",
   "metadata": {},
   "source": [
    "# Activity #4: Network data - subset of facebook friends dataset\n",
    "* from: https://snap.stanford.edu/data/egonets-Facebook.html\n",
    "* dataset of friends lists\n",
    "\n",
    "#### Info about this dataset:\n",
    "* the original file you can read in has about 80,000 different connections\n",
    "* it is ordered by the most connected person (person 0) at the top\n",
    "* because this network would be computationally slow and just a hairball - we're going to be working with downsampled data\n",
    "* for example, a file tagged \"000090_000010\" starts with the 10th most connected person, and only included connections up to the 90th most connected person\n",
    "* Its worth noting that this dataset (linked here and on the webpage) also includes feature data like gender, last name, school, etc - however it is too sparse to be of visualization use to us\n",
    "\n",
    "Check out the other social network links at the SNAP data webpage!"
   ]
  },
  {
   "cell_type": "code",
   "execution_count": null,
   "metadata": {},
   "outputs": [],
   "source": [
    "# from 10 to 150 connections, a few large nodes\n",
    "#filename = 'facebook_combined_sm000150_000010.txt'\n",
    "\n",
    "# this might be too large: one large node, up to 100 connections\n",
    "#filename='facebook_combined_sm000100.txt'\n",
    "\n",
    "# start here\n",
    "filename = 'facebook_combined_sm000090_000010.txt'\n",
    "\n",
    "# then this one\n",
    "#filename = 'facebook_combined_sm000030_000000.txt'\n",
    "# note how different the topologies are\n",
    "\n",
    "network = pd.read_csv('/Users/jillnaiman1/Downloads/'+filename,\n",
    "                sep=' ', names=['ind1', 'ind2'])\n",
    "network"
   ]
  },
  {
   "cell_type": "code",
   "execution_count": null,
   "metadata": {},
   "outputs": [],
   "source": [
    "# build the network\n",
    "node_data = []\n",
    "link_data = []\n",
    "color_data = [] # all same color\n",
    "\n",
    "# add nodes\n",
    "maxNet = max([network['ind1'].max(),network['ind2'].max()])\n",
    "for i in range(maxNet+1):\n",
    "    node_data.append({\"label\": str(i), 'shape_attrs': {'r': 8} }) # small circles\n",
    "    \n",
    "# now, make links\n",
    "for i in range(len(network)):\n",
    "    # we are linking the ith object to another jth object, but we \n",
    "    #  gotta figure out with jth object it is\n",
    "    source_id = network.iloc[i]['ind1']\n",
    "    target_id = network.iloc[i]['ind2']\n",
    "    link_data.append({'source': source_id, 'target': target_id})\n",
    "    color_data.append('blue')\n",
    "                      \n",
    "#link_data,node_data\n",
    "#color_data"
   ]
  },
  {
   "cell_type": "code",
   "execution_count": null,
   "metadata": {},
   "outputs": [],
   "source": [
    "# plot\n",
    "\n",
    "graph = bqplot.Graph(node_data=node_data, \n",
    "                     link_data = link_data,\n",
    "                    colors=color_data)\n",
    "\n",
    "# play with these for different graphs\n",
    "graph.charge = -100 \n",
    "graph.link_type = 'line'\n",
    "graph.link_distance=50\n",
    "# there is no direction to links\n",
    "graph.directed = False\n",
    "\n",
    "fig = bqplot.Figure(marks = [graph])\n",
    "fig.layout.min_width='1000px'\n",
    "fig.layout.min_height='900px'\n",
    "# note: I think this has to be the layout for this to look right\n",
    "fig\n",
    "\n",
    "# in theory, we could color this network by what school folks are in, or some such\n",
    "#  but while the dataset does contain some of these features, the \n",
    "#  answer rate is too sparse for our subset here"
   ]
  },
  {
   "cell_type": "markdown",
   "metadata": {},
   "source": [
    "# Note: the below is just prep if you want to make your own subset datasets"
   ]
  },
  {
   "cell_type": "code",
   "execution_count": null,
   "metadata": {},
   "outputs": [],
   "source": [
    "# prep fb data by downsampling\n",
    "minCon = 0\n",
    "maxCon = 30\n",
    "G = pd.read_csv('/Users/jillnaiman1/Downloads/facebook_combined.txt',sep=' ', names=['ind1', 'ind2'])\n",
    "Gnew = np.zeros([2],dtype='int')\n",
    "# loop and append\n",
    "Gnew = G.loc[G['ind1']==minCon].values[0]\n",
    "for i in xrange(G.loc[G['ind1']==minCon].index[0],len(G)):\n",
    "    gl = G.loc[i].values\n",
    "    if (gl[0] <= maxCon) and (gl[1] <= maxCon) and (gl[0] >= minCon) and (gl[1] >= minCon):\n",
    "        Gnew = np.vstack((Gnew,gl))\n",
    "\n",
    "np.savetxt('/Users/jillnaiman1/spring2019online/week09/data/facebook_combined_sm' + \\\n",
    "           str(maxCon).zfill(6) + '_' + str(minCon).zfill(6) + '.txt', Gnew,fmt='%i')"
   ]
  },
  {
   "cell_type": "code",
   "execution_count": null,
   "metadata": {},
   "outputs": [],
   "source": [
    "graph.link_distance"
   ]
  },
  {
   "cell_type": "code",
   "execution_count": null,
   "metadata": {},
   "outputs": [],
   "source": []
  }
 ],
 "metadata": {
  "kernelspec": {
   "display_name": "Python 3",
   "language": "python",
   "name": "python3"
  },
  "language_info": {
   "codemirror_mode": {
    "name": "ipython",
    "version": 2
   },
   "file_extension": ".py",
   "mimetype": "text/x-python",
   "name": "python",
   "nbconvert_exporter": "python",
   "pygments_lexer": "ipython2",
   "version": "2.7.15"
  }
 },
 "nbformat": 4,
 "nbformat_minor": 2
}
