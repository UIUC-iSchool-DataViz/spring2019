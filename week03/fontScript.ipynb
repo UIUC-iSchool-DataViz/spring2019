{
 "cells": [
  {
   "cell_type": "markdown",
   "metadata": {},
   "source": [
    "## Update output directory and run!"
   ]
  },
  {
   "cell_type": "code",
   "execution_count": 3,
   "metadata": {},
   "outputs": [],
   "source": [
    "%matplotlib inline"
   ]
  },
  {
   "cell_type": "code",
   "execution_count": 4,
   "metadata": {},
   "outputs": [],
   "source": [
    "import numpy as np\n",
    "import string\n",
    "import matplotlib.font_manager\n",
    "from matplotlib.ft2font import FT2Font, LOAD_FORCE_AUTOHINT, \\\n",
    "    LOAD_NO_HINTING, LOAD_DEFAULT, LOAD_NO_AUTOHINT\n",
    "import matplotlib.pyplot as plt"
   ]
  },
  {
   "cell_type": "code",
   "execution_count": 5,
   "metadata": {},
   "outputs": [
    {
     "name": "stdout",
     "output_type": "stream",
     "text": [
      "A 237 256\n",
      "A 475 512\n",
      "A 950 1088\n",
      "A 1900 2112\n",
      "A 3799 4160\n",
      "A 7600 8352\n",
      "O 240 256\n",
      "O 480 512\n",
      "O 960 1088\n",
      "O 1920 2176\n",
      "O 3840 4275\n",
      "O 7680 8640\n",
      "T 218 256\n",
      "T 436 512\n",
      "T 880 1088\n",
      "T 1752 2112\n",
      "T 3512 4128\n",
      "T 7016 8352\n",
      "J 87 320\n",
      "J 174 640\n",
      "J 356 1408\n",
      "J 708 2688\n",
      "J 1412 5312\n",
      "J 2824 10624\n",
      "X 221 256\n",
      "X 444 512\n",
      "X 888 1088\n",
      "X 1775 2112\n",
      "X 3549 4160\n",
      "X 7100 8320\n"
     ]
    },
    {
     "data": {
      "text/plain": [
       "<Figure size 432x288 with 0 Axes>"
      ]
     },
     "metadata": {},
     "output_type": "display_data"
    },
    {
     "data": {
      "text/plain": [
       "<Figure size 1440x220 with 0 Axes>"
      ]
     },
     "metadata": {},
     "output_type": "display_data"
    },
    {
     "data": {
      "text/plain": [
       "<Figure size 1440x220 with 0 Axes>"
      ]
     },
     "metadata": {},
     "output_type": "display_data"
    },
    {
     "data": {
      "text/plain": [
       "<Figure size 1440x220 with 0 Axes>"
      ]
     },
     "metadata": {},
     "output_type": "display_data"
    },
    {
     "data": {
      "text/plain": [
       "<Figure size 1440x220 with 0 Axes>"
      ]
     },
     "metadata": {},
     "output_type": "display_data"
    },
    {
     "data": {
      "text/plain": [
       "<Figure size 1440x220 with 0 Axes>"
      ]
     },
     "metadata": {},
     "output_type": "display_data"
    }
   ],
   "source": [
    "output_directory = \"/Users/achrist3/Downloads\"\n",
    "\n",
    "font_name = \"DejaVu Sans\"\n",
    "\n",
    "characters = string.printable\n",
    "characters = \"AOTJX\"\n",
    "\n",
    "dpi = 100\n",
    "\n",
    "# convert characters to unicode integers (not binary)\n",
    "chars = [ord(_) for _ in characters]\n",
    "\n",
    "font_sizes = (4, 8, 16, 32, 64, 128)\n",
    "\n",
    "# loop over the letters\n",
    "for i, char_code in enumerate(chars):\n",
    "\n",
    "    font_fn = matplotlib.font_manager.findfont(font_name)\n",
    "    font = matplotlib.font_manager.get_font(font_fn)\n",
    "\n",
    "    # clear the figure, just for safety\n",
    "    plt.clf()\n",
    "    \n",
    "    # make image 1.2 times wider than the number of versions of the letter\n",
    "    fig = plt.figure(dpi = 200, figsize=(len(font_sizes) * 1.2, 1.1))\n",
    "    \n",
    "    # create a new \"subplot\" aka sub-image aka one letter one resolution\n",
    "    ax = fig.add_subplot(111)\n",
    "    max_x = 0.0\n",
    "    \n",
    "    # loop over the resolutions of a letter\n",
    "    for j, font_size in enumerate(font_sizes):\n",
    "        # start with a new font (delete previous loop data)\n",
    "        font.clear()\n",
    "        \n",
    "        # create an image size and resolution. Here resolution is constant but size grows\n",
    "        font.set_size(font_size, dpi)\n",
    "        \n",
    "        # create a string - and convert character from unicode back to character\n",
    "        font.set_text(chr(char_code), flags = LOAD_FORCE_AUTOHINT)\n",
    "        \n",
    "        # place a vector glyph into a raster bitmap \"image\"\n",
    "        font.draw_glyphs_to_bitmap(antialiased = True)\n",
    "        \n",
    "        # declare the glyph to draw\n",
    "        glyph = font.load_char(char_code)\n",
    "        x0, y0, x1, y1 = glyph.bbox\n",
    "        dx = x1 - x0\n",
    "        dy = y1 - y0\n",
    "        print(chr(char_code), dx, dy) # logging to check for errors\n",
    "        bitmap = 1.0 - font.get_image().astype(\">f4\")/255.\n",
    "        extent = [j * 1.5, j * 1.5 + 1, 0, dy/dx]\n",
    "        \n",
    "        # display the letter on the subplot, position it at \"extent\"\n",
    "        ax.imshow(bitmap, extent = extent, cmap = \"gray\")\n",
    "        \n",
    "        # move the position for the next letter until it hits the maximum size\n",
    "        max_x = max(max_x, extent[1])\n",
    "    plt.xlim(-0.1, max_x + 0.1)\n",
    "    plt.ylim(-0.1, 1.3)\n",
    "    plt.xticks(())\n",
    "    plt.yticks(())\n",
    "    outputString = output_directory + \"/font_%s.png\"\n",
    "    plt.savefig(outputString % chr(char_code));\n",
    "    plt.clf()"
   ]
  },
  {
   "cell_type": "code",
   "execution_count": null,
   "metadata": {},
   "outputs": [],
   "source": []
  },
  {
   "cell_type": "code",
   "execution_count": null,
   "metadata": {},
   "outputs": [],
   "source": []
  }
 ],
 "metadata": {
  "kernelspec": {
   "display_name": "Python 3",
   "language": "python",
   "name": "python3"
  },
  "language_info": {
   "codemirror_mode": {
    "name": "ipython",
    "version": 3
   },
   "file_extension": ".py",
   "mimetype": "text/x-python",
   "name": "python",
   "nbconvert_exporter": "python",
   "pygments_lexer": "ipython3",
   "version": "3.7.1"
  }
 },
 "nbformat": 4,
 "nbformat_minor": 2
}
